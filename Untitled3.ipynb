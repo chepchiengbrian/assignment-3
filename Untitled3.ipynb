{
  "nbformat": 4,
  "nbformat_minor": 0,
  "metadata": {
    "colab": {
      "provenance": [],
      "authorship_tag": "ABX9TyNIi5kySXELayLM10O6cndx",
      "include_colab_link": true
    },
    "kernelspec": {
      "name": "python3",
      "display_name": "Python 3"
    },
    "language_info": {
      "name": "python"
    }
  },
  "cells": [
    {
      "cell_type": "markdown",
      "metadata": {
        "id": "view-in-github",
        "colab_type": "text"
      },
      "source": [
        "<a href=\"https://colab.research.google.com/github/chepchiengbrian/assignment-3/blob/main/Untitled3.ipynb\" target=\"_parent\"><img src=\"https://colab.research.google.com/assets/colab-badge.svg\" alt=\"Open In Colab\"/></a>"
      ]
    },
    {
      "cell_type": "markdown",
      "source": [
        "**Question 1**\n",
        "\n",
        "\n",
        "---\n",
        "\n",
        "# psuedo code\n",
        "1."
      ],
      "metadata": {
        "id": "WNG7YdPGjwCG"
      }
    },
    {
      "cell_type": "code",
      "source": [
        "menu = ['stewed meat with onions', 'bean soup', 'risotto with trout and shrimp',\n",
        "       'fish soup with cream and onion', 'gyro']\n",
        "\n",
        "# TODO: remove 'bean soup', and add 'roasted beet salad' to the end of the mene\n",
        "menu.remove (\"bean soup\")\n",
        "menu.append (\"roasted beet salad\")\n",
        "print (menu)"
      ],
      "metadata": {
        "colab": {
          "base_uri": "https://localhost:8080/"
        },
        "id": "QtaiX5H_sV6O",
        "outputId": "c8f5faa2-21f1-43e4-e088-4f3b079bb8ad"
      },
      "execution_count": null,
      "outputs": [
        {
          "output_type": "stream",
          "name": "stdout",
          "text": [
            "['stewed meat with onions', 'risotto with trout and shrimp', 'fish soup with cream and onion', 'gyro', 'roasted beet salad']\n"
          ]
        }
      ]
    },
    {
      "cell_type": "markdown",
      "source": [
        "**Question 2**\n",
        "\n",
        "\n",
        "---\n",
        "\n",
        "# psuedo code\n",
        "1."
      ],
      "metadata": {
        "id": "wToYP2ilsddv"
      }
    },
    {
      "cell_type": "code",
      "source": [
        "num_customers = [137, 147, 135, 128, 170, 174, 165, 146, 126, 159,\n",
        "                 141, 148, 132, 147, 168, 153, 170, 161, 148, 152,\n",
        "                 141, 151, 131, 149, 164, 163, 143, 143, 166, 171]\n",
        "avg_first_seven = sum (num_customers [:7])/7\n",
        "avg_last_seven = sum (num_customers [:-7])/7\n",
        "max_month = max (num_customers)\n",
        "min_month = min(num_customers)"
      ],
      "metadata": {
        "id": "oASrzIWLsulV"
      },
      "execution_count": null,
      "outputs": []
    },
    {
      "cell_type": "code",
      "source": [
        "alphabet = \"A.B.C.D.E.F.G.H.I.J.K.L.M.N.O.P.Q.R.S.T.U.V.W.X.Y.Z\"\n",
        "address = \"Mr. H. Potter,The cupboard under the Stairs,4 Privet Drive,Little Whinging,Surrey\"\n",
        "\n",
        "# TODO: Convert strings into Python lists\n",
        "letters = \"A\" \"B\"\n",
        "formatted_address = \"A\",\"B\"\n"
      ],
      "metadata": {
        "id": "NtxmYs704C6O"
      },
      "execution_count": null,
      "outputs": []
    },
    {
      "cell_type": "code",
      "source": [
        "def percentage_liked(ratings):\n",
        "    list_liked = [i>=4 for i in ratings]\n",
        "    # TODO: Complete the function\n",
        "    percentage_liked = sum(list_liked)/len(list_liked)\n",
        "    return percentage_liked\n",
        "\n",
        "# Do not change: should return 0.5\n",
        "percentage_liked([1, 2, 3, 4, 5, 4, 5, 1])\n"
      ],
      "metadata": {
        "colab": {
          "base_uri": "https://localhost:8080/"
        },
        "id": "5HYktHD54EXC",
        "outputId": "45c0b66c-dc17-4d41-eaf8-3143380ef0cf"
      },
      "execution_count": null,
      "outputs": [
        {
          "output_type": "execute_result",
          "data": {
            "text/plain": [
              "0.5"
            ]
          },
          "metadata": {},
          "execution_count": 8
        }
      ]
    },
    {
      "cell_type": "code",
      "source": [
        "def percentage_growth(num_users, yrs_ago):\n",
        "    growth = (num_users[len(num_users)-1] - num_users[len(num_users)-yrs_ago])/num_users[len(num_users)-2]\n",
        "    return growth\n",
        "\n",
        "\n",
        "num_users_test = [920344, 1043553, 1204334, 1458996, 1503323, 1593432, 1623463, 1843064, 1930992, 2001078]\n",
        "\n",
        "print(percentage_growth(num_users_test, 1))\n",
        "\n",
        "print(percentage_growth(num_users_test, 7))\n"
      ],
      "metadata": {
        "colab": {
          "base_uri": "https://localhost:8080/"
        },
        "id": "-vxJQX-a6EBn",
        "outputId": "fc1a2f3a-145b-4a52-c8d8-dac4392f7e88"
      },
      "execution_count": null,
      "outputs": [
        {
          "output_type": "stream",
          "name": "stdout",
          "text": [
            "0.0\n",
            "0.2807272117129434\n"
          ]
        }
      ]
    }
  ]
}